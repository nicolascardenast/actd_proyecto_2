{
 "cells": [
  {
   "cell_type": "markdown",
   "metadata": {},
   "source": [
    "# Limpieza y Alistamiento de datos"
   ]
  },
  {
   "cell_type": "markdown",
   "metadata": {},
   "source": [
    "### Paso 1: Cargar los datos desde un archivo .xls"
   ]
  },
  {
   "cell_type": "code",
   "execution_count": 1,
   "metadata": {},
   "outputs": [],
   "source": [
    "import pandas as pd\n",
    "\n",
    "# Cargar los datos desde el archivo .xls\n",
    "data = pd.read_excel('default of credit card clients.xls')\n"
   ]
  },
  {
   "cell_type": "markdown",
   "metadata": {},
   "source": [
    "### Paso 2: Explorar los datos disponibles"
   ]
  },
  {
   "cell_type": "code",
   "execution_count": 2,
   "metadata": {},
   "outputs": [
    {
     "name": "stdout",
     "output_type": "stream",
     "text": [
      "<class 'pandas.core.frame.DataFrame'>\n",
      "RangeIndex: 30001 entries, 0 to 30000\n",
      "Data columns (total 25 columns):\n",
      " #   Column      Non-Null Count  Dtype \n",
      "---  ------      --------------  ----- \n",
      " 0   Unnamed: 0  30001 non-null  object\n",
      " 1   X1          30001 non-null  object\n",
      " 2   X2          30001 non-null  object\n",
      " 3   X3          30001 non-null  object\n",
      " 4   X4          30001 non-null  object\n",
      " 5   X5          30001 non-null  object\n",
      " 6   X6          30001 non-null  object\n",
      " 7   X7          30001 non-null  object\n",
      " 8   X8          30001 non-null  object\n",
      " 9   X9          30001 non-null  object\n",
      " 10  X10         30001 non-null  object\n",
      " 11  X11         30001 non-null  object\n",
      " 12  X12         30001 non-null  object\n",
      " 13  X13         30001 non-null  object\n",
      " 14  X14         30001 non-null  object\n",
      " 15  X15         30001 non-null  object\n",
      " 16  X16         30001 non-null  object\n",
      " 17  X17         30001 non-null  object\n",
      " 18  X18         30001 non-null  object\n",
      " 19  X19         30001 non-null  object\n",
      " 20  X20         30001 non-null  object\n",
      " 21  X21         30001 non-null  object\n",
      " 22  X22         30001 non-null  object\n",
      " 23  X23         30001 non-null  object\n",
      " 24  Y           30001 non-null  object\n",
      "dtypes: object(25)\n",
      "memory usage: 5.7+ MB\n",
      "None\n"
     ]
    }
   ],
   "source": [
    "# Información general sobre el dataframe\n",
    "print(data.info())"
   ]
  },
  {
   "cell_type": "code",
   "execution_count": 3,
   "metadata": {},
   "outputs": [
    {
     "name": "stdout",
     "output_type": "stream",
     "text": [
      "       Unnamed: 0     X1     X2     X3     X4     X5     X6     X7     X8  \\\n",
      "count       30001  30001  30001  30001  30001  30001  30001  30001  30001   \n",
      "unique      30001     82      3      8      5     57     12     12     12   \n",
      "top            ID  50000      2      2      2     29      0      0      0   \n",
      "freq            1   3365  18112  14030  15964   1605  14737  15730  15764   \n",
      "\n",
      "           X9  ...    X15    X16    X17    X18    X19    X20    X21    X22  \\\n",
      "count   30001  ...  30001  30001  30001  30001  30001  30001  30001  30001   \n",
      "unique     12  ...  21549  21011  20605   7944   7900   7519   6938   6898   \n",
      "top         0  ...      0      0      0      0      0      0      0      0   \n",
      "freq    16455  ...   3195   3506   4020   5249   5396   5968   6408   6703   \n",
      "\n",
      "          X23      Y  \n",
      "count   30001  30001  \n",
      "unique   6940      3  \n",
      "top         0      0  \n",
      "freq     7173  23364  \n",
      "\n",
      "[4 rows x 25 columns]\n"
     ]
    }
   ],
   "source": [
    "# Estadísticas descriptivas para variables numéricas\n",
    "print(data.describe())"
   ]
  },
  {
   "cell_type": "code",
   "execution_count": 4,
   "metadata": {},
   "outputs": [
    {
     "name": "stdout",
     "output_type": "stream",
     "text": [
      "  Unnamed: 0         X1   X2         X3        X4   X5     X6     X7     X8  \\\n",
      "0         ID  LIMIT_BAL  SEX  EDUCATION  MARRIAGE  AGE  PAY_0  PAY_2  PAY_3   \n",
      "1          1      20000    2          2         1   24      2      2     -1   \n",
      "2          2     120000    2          2         2   26     -1      2      0   \n",
      "3          3      90000    2          2         2   34      0      0      0   \n",
      "4          4      50000    2          2         1   37      0      0      0   \n",
      "\n",
      "      X9  ...        X15        X16        X17       X18       X19       X20  \\\n",
      "0  PAY_4  ...  BILL_AMT4  BILL_AMT5  BILL_AMT6  PAY_AMT1  PAY_AMT2  PAY_AMT3   \n",
      "1     -1  ...          0          0          0         0       689         0   \n",
      "2      0  ...       3272       3455       3261         0      1000      1000   \n",
      "3      0  ...      14331      14948      15549      1518      1500      1000   \n",
      "4      0  ...      28314      28959      29547      2000      2019      1200   \n",
      "\n",
      "        X21       X22       X23                           Y  \n",
      "0  PAY_AMT4  PAY_AMT5  PAY_AMT6  default payment next month  \n",
      "1         0         0         0                           1  \n",
      "2      1000         0      2000                           1  \n",
      "3      1000      1000      5000                           0  \n",
      "4      1100      1069      1000                           0  \n",
      "\n",
      "[5 rows x 25 columns]\n"
     ]
    }
   ],
   "source": [
    "# Mostrar las primeras filas del dataframe para explorar los datos\n",
    "print(data.head())"
   ]
  },
  {
   "cell_type": "markdown",
   "metadata": {},
   "source": [
    "### Paso 3: Verificar valores únicos y rangos de variables"
   ]
  },
  {
   "cell_type": "code",
   "execution_count": 5,
   "metadata": {},
   "outputs": [
    {
     "name": "stdout",
     "output_type": "stream",
     "text": [
      "Valores únicos en Unnamed: 0: ['ID' 1 2 ... 29998 29999 30000]\n",
      "Valores únicos en X1: ['LIMIT_BAL' 20000 120000 90000 50000 500000 100000 140000 200000 260000\n",
      " 630000 70000 250000 320000 360000 180000 130000 450000 60000 230000\n",
      " 160000 280000 10000 40000 210000 150000 380000 310000 400000 80000 290000\n",
      " 340000 300000 30000 240000 470000 480000 350000 330000 110000 420000\n",
      " 170000 370000 270000 220000 190000 510000 460000 440000 410000 490000\n",
      " 390000 580000 600000 620000 610000 700000 670000 680000 430000 550000\n",
      " 540000 1000000 530000 710000 560000 520000 750000 640000 16000 570000\n",
      " 590000 660000 720000 327680 740000 800000 760000 690000 650000 780000\n",
      " 730000]\n",
      "Valores únicos en X2: ['SEX' 2 1]\n",
      "Valores únicos en X3: ['EDUCATION' 2 1 3 5 4 6 0]\n",
      "Valores únicos en X4: ['MARRIAGE' 1 2 3 0]\n",
      "Valores únicos en X5: ['AGE' 24 26 34 37 57 29 23 28 35 51 41 30 49 39 40 27 47 33 32 54 58 22\n",
      " 25 31 46 42 43 45 56 44 53 38 63 36 52 48 55 60 50 75 61 73 59 21 67 66\n",
      " 62 70 72 64 65 71 69 68 79 74]\n",
      "Valores únicos en X6: ['PAY_0' 2 -1 0 -2 1 3 4 8 7 5 6]\n",
      "Valores únicos en X7: ['PAY_2' 2 0 -1 -2 3 5 7 4 1 6 8]\n",
      "Valores únicos en X8: ['PAY_3' -1 0 2 -2 3 4 6 7 1 5 8]\n",
      "Valores únicos en X9: ['PAY_4' -1 0 -2 2 3 4 5 7 6 1 8]\n",
      "Valores únicos en X10: ['PAY_5' -2 0 -1 2 3 5 4 7 8 6]\n",
      "Valores únicos en X11: ['PAY_6' -2 2 0 -1 3 6 4 7 8 5]\n",
      "Valores únicos en X12: ['BILL_AMT1' 3913 2682 ... 1683 -1645 47929]\n",
      "Valores únicos en X13: ['BILL_AMT2' 3102 1725 ... 3356 78379 48905]\n",
      "Valores únicos en X14: ['BILL_AMT3' 689 2682 ... 2758 76304 49764]\n",
      "Valores únicos en X15: ['BILL_AMT4' 0 3272 ... 20878 52774 36535]\n",
      "Valores únicos en X16: ['BILL_AMT5' 0 3455 ... 31237 5190 32428]\n",
      "Valores únicos en X17: ['BILL_AMT6' 0 3261 ... 19357 48944 15313]\n",
      "Valores únicos en X18: ['PAY_AMT1' 0 1518 ... 10029 9054 85900]\n",
      "Valores únicos en X19: ['PAY_AMT2' 689 1000 ... 2977 111784 3526]\n",
      "Valores únicos en X20: ['PAY_AMT3' 0 1000 ... 349395 8907 25128]\n",
      "Valores únicos en X21: ['PAY_AMT4' 0 1000 ... 2556 10115 8049]\n",
      "Valores únicos en X22: ['PAY_AMT5' 0 1000 ... 8040 3319 52964]\n",
      "Valores únicos en X23: ['PAY_AMT6' 0 2000 ... 70052 220076 16080]\n",
      "Valores únicos en Y: ['default payment next month' 1 0]\n",
      "       Unnamed: 0     X1     X2     X3     X4     X5     X6     X7     X8  \\\n",
      "count       30001  30001  30001  30001  30001  30001  30001  30001  30001   \n",
      "unique      30001     82      3      8      5     57     12     12     12   \n",
      "top            ID  50000      2      2      2     29      0      0      0   \n",
      "freq            1   3365  18112  14030  15964   1605  14737  15730  15764   \n",
      "\n",
      "           X9  ...    X15    X16    X17    X18    X19    X20    X21    X22  \\\n",
      "count   30001  ...  30001  30001  30001  30001  30001  30001  30001  30001   \n",
      "unique     12  ...  21549  21011  20605   7944   7900   7519   6938   6898   \n",
      "top         0  ...      0      0      0      0      0      0      0      0   \n",
      "freq    16455  ...   3195   3506   4020   5249   5396   5968   6408   6703   \n",
      "\n",
      "          X23      Y  \n",
      "count   30001  30001  \n",
      "unique   6940      3  \n",
      "top         0      0  \n",
      "freq     7173  23364  \n",
      "\n",
      "[4 rows x 25 columns]\n"
     ]
    }
   ],
   "source": [
    "# Verificar valores únicos en cada columna\n",
    "for column in data.columns:\n",
    "    print(f\"Valores únicos en {column}: {data[column].unique()}\")\n",
    "\n",
    "# Verificar rangos de variables numéricas\n",
    "print(data.describe())"
   ]
  },
  {
   "cell_type": "markdown",
   "metadata": {},
   "source": [
    "En este punto se identificó que no hay valores faltantes en la base de datos, ni tampoco valores atípicos, por lo que, por ahora lo único que haremos será eliminar la primera fila que contiene nombres de columna no disientes. "
   ]
  },
  {
   "cell_type": "code",
   "execution_count": 6,
   "metadata": {},
   "outputs": [],
   "source": [
    "# Eliminar la primera fila que contiene nombres de columna no deseados\n",
    "data = data.iloc[1:]\n",
    "\n",
    "# Asignar nombres de columna descriptivos\n",
    "column_names = ['ID', 'LIMIT_BAL', 'SEX', 'EDUCATION', 'MARRIAGE', 'AGE', 'PAY_0', 'PAY_2', 'PAY_3', 'PAY_4', 'PAY_5', 'PAY_6', 'BILL_AMT1', 'BILL_AMT2', 'BILL_AMT3', 'BILL_AMT4', 'BILL_AMT5', 'BILL_AMT6', 'PAY_AMT1', 'PAY_AMT2', 'PAY_AMT3', 'PAY_AMT4', 'PAY_AMT5', 'PAY_AMT6', 'default_payment_next_month']\n",
    "data.columns = column_names\n",
    "\n",
    "# Convertir columnas numéricas al tipo de datos correspondiente\n",
    "numeric_columns = ['LIMIT_BAL', 'AGE', 'PAY_0', 'PAY_2', 'PAY_3', 'PAY_4', 'PAY_5', 'PAY_6', 'BILL_AMT1', 'BILL_AMT2', 'BILL_AMT3', 'BILL_AMT4', 'BILL_AMT5', 'BILL_AMT6', 'PAY_AMT1', 'PAY_AMT2', 'PAY_AMT3', 'PAY_AMT4', 'PAY_AMT5', 'PAY_AMT6', 'default_payment_next_month']\n",
    "data[numeric_columns] = data[numeric_columns].apply(pd.to_numeric)"
   ]
  },
  {
   "cell_type": "markdown",
   "metadata": {},
   "source": [
    "Finalmente se guardan los datos limpios en un archivo .csv "
   ]
  },
  {
   "cell_type": "code",
   "execution_count": 7,
   "metadata": {},
   "outputs": [
    {
     "name": "stdout",
     "output_type": "stream",
     "text": [
      "Los datos limpios se han guardado correctamente en un archivo CSV.\n"
     ]
    }
   ],
   "source": [
    "# Guardar los datos limpios en un archivo CSV\n",
    "data.to_csv('datos_limpios.csv', index=False)\n",
    "\n",
    "print(\"Los datos limpios se han guardado correctamente en un archivo CSV.\")"
   ]
  }
 ],
 "metadata": {
  "kernelspec": {
   "display_name": "Python 3",
   "language": "python",
   "name": "python3"
  },
  "language_info": {
   "codemirror_mode": {
    "name": "ipython",
    "version": 3
   },
   "file_extension": ".py",
   "mimetype": "text/x-python",
   "name": "python",
   "nbconvert_exporter": "python",
   "pygments_lexer": "ipython3",
   "version": "3.11.5"
  }
 },
 "nbformat": 4,
 "nbformat_minor": 2
}
