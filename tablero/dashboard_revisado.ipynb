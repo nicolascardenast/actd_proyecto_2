{
 "cells": [
  {
   "cell_type": "markdown",
   "metadata": {},
   "source": [
    "# Dashboard: Analitica para Área de Riesgo\n",
    "\n",
    "Inicialmente se importan las libreas y se revisa la ubicación del archivo."
   ]
  },
  {
   "cell_type": "code",
   "execution_count": 2,
   "metadata": {},
   "outputs": [
    {
     "name": "stderr",
     "output_type": "stream",
     "text": [
      "/var/folders/rk/1txw87pj7sgdsrd0ny5897580000gn/T/ipykernel_11247/385760752.py:3: DeprecationWarning: \n",
      "Pyarrow will become a required dependency of pandas in the next major release of pandas (pandas 3.0),\n",
      "(to allow more performant data types, such as the Arrow string type, and better interoperability with other libraries)\n",
      "but was not found to be installed on your system.\n",
      "If this would cause problems for you,\n",
      "please provide us feedback at https://github.com/pandas-dev/pandas/issues/54466\n",
      "        \n",
      "  import pandas as pd\n",
      "/var/folders/rk/1txw87pj7sgdsrd0ny5897580000gn/T/ipykernel_11247/385760752.py:8: UserWarning: \n",
      "The dash_core_components package is deprecated. Please replace\n",
      "`import dash_core_components as dcc` with `from dash import dcc`\n",
      "  import dash_core_components as dcc\n",
      "/var/folders/rk/1txw87pj7sgdsrd0ny5897580000gn/T/ipykernel_11247/385760752.py:9: UserWarning: \n",
      "The dash_html_components package is deprecated. Please replace\n",
      "`import dash_html_components as html` with `from dash import html`\n",
      "  import dash_html_components as html\n"
     ]
    }
   ],
   "source": [
    "# Importar librerías necesarias\n",
    "import dash\n",
    "import pandas as pd\n",
    "import re\n",
    "import os\n",
    "from os import path, getcwd\n",
    "import random\n",
    "import dash_core_components as dcc\n",
    "import dash_html_components as html\n",
    "import dash_bootstrap_components as dbc\n",
    "from dash.dependencies import Input, Output\n",
    "import dash_bootstrap_components as dbc\n",
    "import pandas as pd\n",
    "import plotly.graph_objects as go\n",
    "import plotly.graph_objs as go\n",
    "\n",
    "\n",
    "\n",
    "try:\n",
    "    import psycopg2\n",
    "except:\n",
    "    os.system(\"pip3 install psycopg2\")\n",
    "    import psycopg2\n"
   ]
  },
  {
   "cell_type": "code",
   "execution_count": 3,
   "metadata": {},
   "outputs": [
    {
     "data": {
      "text/plain": [
       "'/Users/esteban/Personal/Octavo Semestre/Analitica/Proyecto 2/actd_proyecto_2'"
      ]
     },
     "execution_count": 3,
     "metadata": {},
     "output_type": "execute_result"
    }
   ],
   "source": [
    "directorio_padre = path.dirname(getcwd())\n",
    "directorio_padre"
   ]
  },
  {
   "cell_type": "code",
   "execution_count": 434,
   "metadata": {},
   "outputs": [
    {
     "data": {
      "text/plain": [
       "['a', 'feature_importance.json', 'dashboard_revisado.ipynb', 'Predicciones.py']"
      ]
     },
     "execution_count": 434,
     "metadata": {},
     "output_type": "execute_result"
    }
   ],
   "source": [
    "os.listdir()\n"
   ]
  },
  {
   "cell_type": "markdown",
   "metadata": {},
   "source": [
    "### Se importan las funciones del modelo para ser usadas aqui"
   ]
  },
  {
   "cell_type": "code",
   "execution_count": 435,
   "metadata": {},
   "outputs": [],
   "source": [
    "import sys\n",
    "sys.path.append(directorio_padre+'/modelamiento')\n",
    "\n",
    "from  funciones import *\n",
    "from  mod_explicativo import *\n",
    "from  mod_predictivo import *"
   ]
  },
  {
   "cell_type": "markdown",
   "metadata": {},
   "source": [
    "### Se cargan las funciones de la base de Datos en RDS"
   ]
  },
  {
   "cell_type": "code",
   "execution_count": 436,
   "metadata": {},
   "outputs": [],
   "source": [
    "\n",
    "connection = psycopg2.connect(\n",
    "    dbname=\"datos_limpios\",\n",
    "    user=\"postgres\",\n",
    "    password=\"1234567890\",\n",
    "    host=\"proyecto2.cpgmg4am8kak.us-east-1.rds.amazonaws.com\",\n",
    "    port=\"5432\"\n",
    ")\n"
   ]
  },
  {
   "cell_type": "markdown",
   "metadata": {},
   "source": [
    "### Una serie de consultas a la base de datos para entender mejor como se puede construir el dash"
   ]
  },
  {
   "cell_type": "code",
   "execution_count": 437,
   "metadata": {},
   "outputs": [
    {
     "name": "stderr",
     "output_type": "stream",
     "text": [
      "/var/folders/rk/1txw87pj7sgdsrd0ny5897580000gn/T/ipykernel_8431/4197408056.py:3: UserWarning:\n",
      "\n",
      "pandas only supports SQLAlchemy connectable (engine/connection) or database string URI or sqlite3 DBAPI2 connection. Other DBAPI2 objects are not tested. Please consider using SQLAlchemy.\n",
      "\n"
     ]
    },
    {
     "data": {
      "text/html": [
       "<div>\n",
       "<style scoped>\n",
       "    .dataframe tbody tr th:only-of-type {\n",
       "        vertical-align: middle;\n",
       "    }\n",
       "\n",
       "    .dataframe tbody tr th {\n",
       "        vertical-align: top;\n",
       "    }\n",
       "\n",
       "    .dataframe thead th {\n",
       "        text-align: right;\n",
       "    }\n",
       "</style>\n",
       "<table border=\"1\" class=\"dataframe\">\n",
       "  <thead>\n",
       "    <tr style=\"text-align: right;\">\n",
       "      <th></th>\n",
       "      <th>sex</th>\n",
       "      <th>education</th>\n",
       "      <th>marriage</th>\n",
       "      <th>age</th>\n",
       "      <th>limit_bal</th>\n",
       "    </tr>\n",
       "  </thead>\n",
       "  <tbody>\n",
       "    <tr>\n",
       "      <th>0</th>\n",
       "      <td>2</td>\n",
       "      <td>2</td>\n",
       "      <td>1</td>\n",
       "      <td>24</td>\n",
       "      <td>20000</td>\n",
       "    </tr>\n",
       "    <tr>\n",
       "      <th>1</th>\n",
       "      <td>2</td>\n",
       "      <td>2</td>\n",
       "      <td>2</td>\n",
       "      <td>26</td>\n",
       "      <td>120000</td>\n",
       "    </tr>\n",
       "    <tr>\n",
       "      <th>2</th>\n",
       "      <td>2</td>\n",
       "      <td>2</td>\n",
       "      <td>2</td>\n",
       "      <td>34</td>\n",
       "      <td>90000</td>\n",
       "    </tr>\n",
       "    <tr>\n",
       "      <th>3</th>\n",
       "      <td>2</td>\n",
       "      <td>2</td>\n",
       "      <td>1</td>\n",
       "      <td>37</td>\n",
       "      <td>50000</td>\n",
       "    </tr>\n",
       "    <tr>\n",
       "      <th>4</th>\n",
       "      <td>1</td>\n",
       "      <td>2</td>\n",
       "      <td>1</td>\n",
       "      <td>57</td>\n",
       "      <td>50000</td>\n",
       "    </tr>\n",
       "    <tr>\n",
       "      <th>...</th>\n",
       "      <td>...</td>\n",
       "      <td>...</td>\n",
       "      <td>...</td>\n",
       "      <td>...</td>\n",
       "      <td>...</td>\n",
       "    </tr>\n",
       "    <tr>\n",
       "      <th>29995</th>\n",
       "      <td>1</td>\n",
       "      <td>3</td>\n",
       "      <td>1</td>\n",
       "      <td>39</td>\n",
       "      <td>220000</td>\n",
       "    </tr>\n",
       "    <tr>\n",
       "      <th>29996</th>\n",
       "      <td>1</td>\n",
       "      <td>3</td>\n",
       "      <td>2</td>\n",
       "      <td>43</td>\n",
       "      <td>150000</td>\n",
       "    </tr>\n",
       "    <tr>\n",
       "      <th>29997</th>\n",
       "      <td>1</td>\n",
       "      <td>2</td>\n",
       "      <td>2</td>\n",
       "      <td>37</td>\n",
       "      <td>30000</td>\n",
       "    </tr>\n",
       "    <tr>\n",
       "      <th>29998</th>\n",
       "      <td>1</td>\n",
       "      <td>3</td>\n",
       "      <td>1</td>\n",
       "      <td>41</td>\n",
       "      <td>80000</td>\n",
       "    </tr>\n",
       "    <tr>\n",
       "      <th>29999</th>\n",
       "      <td>1</td>\n",
       "      <td>2</td>\n",
       "      <td>1</td>\n",
       "      <td>46</td>\n",
       "      <td>50000</td>\n",
       "    </tr>\n",
       "  </tbody>\n",
       "</table>\n",
       "<p>30000 rows × 5 columns</p>\n",
       "</div>"
      ],
      "text/plain": [
       "       sex  education  marriage  age  limit_bal\n",
       "0        2          2         1   24      20000\n",
       "1        2          2         2   26     120000\n",
       "2        2          2         2   34      90000\n",
       "3        2          2         1   37      50000\n",
       "4        1          2         1   57      50000\n",
       "...    ...        ...       ...  ...        ...\n",
       "29995    1          3         1   39     220000\n",
       "29996    1          3         2   43     150000\n",
       "29997    1          2         2   37      30000\n",
       "29998    1          3         1   41      80000\n",
       "29999    1          2         1   46      50000\n",
       "\n",
       "[30000 rows x 5 columns]"
      ]
     },
     "execution_count": 437,
     "metadata": {},
     "output_type": "execute_result"
    }
   ],
   "source": [
    "# Consultar la base de datos para obtener los detalles del cliente\n",
    "query = f\"SELECT sex, education, marriage, age, limit_bal FROM datos_limpios\"\n",
    "customer_details = pd.read_sql_query(query, connection)\n",
    "customer_details"
   ]
  },
  {
   "cell_type": "markdown",
   "metadata": {},
   "source": [
    "### Creación de un archivo que contiene los datos de la importancia, referentes a la pregunta descriptiva. "
   ]
  },
  {
   "cell_type": "code",
   "execution_count": 438,
   "metadata": {},
   "outputs": [],
   "source": [
    "import json\n",
    "import os\n",
    "import numpy as np\n",
    "\n",
    "dict_importancia=result_mod_descr()\n",
    "\n",
    "def write_dict_to_json(data_dict, file_path):\n",
    "    # Ensure the directory exists\n",
    "    os.makedirs(os.path.dirname(file_path), exist_ok=True)\n",
    "    \n",
    "    # Prepare a JSON serializable dictionary by converting numpy floats to regular floats\n",
    "    serializable_dict = {key: float(value) if isinstance(value, np.floating) else value for key, value in data_dict.items()}\n",
    "    \n",
    "    # Write the dictionary to a JSON file\n",
    "    with open(file_path, 'w') as file:\n",
    "        json.dump(serializable_dict, file, indent=4)\n",
    "\n",
    "write_dict_to_json(dict_importancia, directorio_padre + '/tablero/feature_importance.json')\n"
   ]
  },
  {
   "cell_type": "code",
   "execution_count": 439,
   "metadata": {},
   "outputs": [
    {
     "data": {
      "text/plain": [
       "{'ID': 0.06467154622077942,\n",
       " 'LIMIT_BAL': 0.07284698635339737,\n",
       " 'SEX': 0.06728023290634155,\n",
       " 'EDUCATION': 0.07583947479724884,\n",
       " 'MARRIAGE': 0.07333260774612427,\n",
       " 'AGE': 0.067725770175457,\n",
       " 'PAY_0': 0.07525470107793808,\n",
       " 'PAY_2': 0.06327129155397415,\n",
       " 'PAY_3': 0.06675033271312714,\n",
       " 'PAY_4': 0.08639625459909439,\n",
       " 'PAY_5': 0.07912641018629074,\n",
       " 'PAY_6': 0.07706847041845322,\n",
       " 'BILL_AMT1': 0.07863803952932358,\n",
       " 'BILL_AMT2': 0.07140984386205673,\n",
       " 'BILL_AMT3': 0.07296385616064072,\n",
       " 'BILL_AMT4': 0.07388211041688919,\n",
       " 'BILL_AMT5': 0.07115864008665085,\n",
       " 'BILL_AMT6': 0.06406016647815704,\n",
       " 'PAY_AMT1': 0.06796525418758392,\n",
       " 'PAY_AMT2': 0.0853319764137268,\n",
       " 'PAY_AMT3': 0.06687764823436737,\n",
       " 'PAY_AMT4': 0.08240938931703568,\n",
       " 'PAY_AMT5': 0.06563428044319153,\n",
       " 'PAY_AMT6': 0.07014559209346771}"
      ]
     },
     "execution_count": 439,
     "metadata": {},
     "output_type": "execute_result"
    }
   ],
   "source": [
    "import json\n",
    "def read_dict_from_json(file_path):\n",
    "    # Read the dictionary from a JSON file\n",
    "    with open(file_path, 'r') as file:\n",
    "        data_dict = json.load(file)\n",
    "    return data_dict\n",
    "\n",
    "# Example usage:\n",
    "imported_dict = read_dict_from_json(directorio_padre + '/tablero/feature_importance.json')\n",
    "imported_dict"
   ]
  },
  {
   "cell_type": "markdown",
   "metadata": {},
   "source": [
    "### Definición de las funciones que se usaran para el área explicatorio del Dash.\n",
    "\n",
    "Grafico de barras con los rangos de la importancia."
   ]
  },
  {
   "cell_type": "code",
   "execution_count": 440,
   "metadata": {},
   "outputs": [],
   "source": [
    "\n",
    "import plotly.graph_objects as go\n",
    "\n",
    "def plot_feature_importance(importances, highlight=['EDUCATION', 'AGE']):\n",
    "    # Convert the dictionary to a list of tuples and sort it\n",
    "    sorted_importances = sorted(importances.items(), key=lambda x: x[1], reverse=True)\n",
    "\n",
    "    # Extract features and their corresponding importances\n",
    "    features = [feat for feat, imp in sorted_importances]\n",
    "    values = [imp for feat, imp in sorted_importances]\n",
    "\n",
    "    # Set colors and opacity based on highlight\n",
    "    colors = ['rgba(0, 0, 255, 0.4)' if feature not in highlight else 'rgba(0, 0, 255, 1.0)' for feature in features]\n",
    "    borders = ['white'] * len(features)  # White borders for all bars\n",
    "\n",
    "    # Create the bar plot\n",
    "    fig = go.Figure(go.Bar(\n",
    "        x=values,\n",
    "        y=features,\n",
    "        orientation='h',\n",
    "        marker=dict(color=colors, line=dict(color=borders, width=1)),\n",
    "        opacity=0.8  # General opacity setting\n",
    "    ))\n",
    "\n",
    "    # Update layout\n",
    "    fig.update_layout(\n",
    "        title='Feature Importance',\n",
    "        xaxis_title='Importance',\n",
    "        yaxis_title='Features',\n",
    "        yaxis={'categoryorder': 'total ascending'},\n",
    "        template='plotly_white'\n",
    "    )\n",
    "\n",
    "    return fig\n",
    "\n",
    "# Plotting the feature importance\n",
    "feature_importance_plot = plot_feature_importance(imported_dict)\n"
   ]
  },
  {
   "cell_type": "markdown",
   "metadata": {},
   "source": [
    "Tabla con la importancia de las variales seleccionadas."
   ]
  },
  {
   "cell_type": "code",
   "execution_count": 441,
   "metadata": {},
   "outputs": [],
   "source": [
    "import pandas as pd\n",
    "\n",
    "def importance_variables(imported_dict):\n",
    "    # Extraer los datos de 'AGE' y 'EDUCATION' del diccionario\n",
    "    age_data = imported_dict.get('AGE', [])\n",
    "    education_data = imported_dict.get('EDUCATION', [])\n",
    "\n",
    "    # Convertir los valores a formato de porcentaje con tres decimales\n",
    "    age_percentage = \"{:.3f}%\".format(age_data * 100)\n",
    "    education_percentage = \"{:.3f}%\".format(education_data * 100)\n",
    "\n",
    "    # Crear DataFrame con los valores modificados\n",
    "    df = pd.DataFrame({\n",
    "        'AGE': [age_percentage],\n",
    "        'EDUCATION': [education_percentage]\n",
    "    })\n",
    "\n",
    "    # Crear la tabla de importancia de variables desde el DataFrame\n",
    "    importance_details = dbc.Table.from_dataframe(\n",
    "        df,\n",
    "        striped=True,\n",
    "        bordered=True,\n",
    "        hover=True,\n",
    "        responsive=True,\n",
    "        style={'width': '100%', 'margin': 'auto'}\n",
    "    )\n",
    "\n",
    "    return importance_details\n",
    "\n",
    "variables = importance_variables(imported_dict)\n",
    "\n"
   ]
  },
  {
   "cell_type": "markdown",
   "metadata": {},
   "source": [
    "### Creación del Layout que usara el dash"
   ]
  },
  {
   "cell_type": "code",
   "execution_count": 442,
   "metadata": {},
   "outputs": [],
   "source": [
    "import dash\n",
    "import dash_bootstrap_components as dbc\n",
    "import dash_core_components as dcc\n",
    "import dash_html_components as html\n",
    "from dash.dependencies import Input, Output\n",
    "\n",
    "app = dash.Dash(__name__, external_stylesheets=[dbc.themes.BOOTSTRAP])\n",
    "\n",
    "sidebar = html.Div(\n",
    "    [\n",
    "        html.H1(\"Analítica Riesgo\"),\n",
    "        dbc.Nav(\n",
    "            [\n",
    "                dbc.NavLink(\"Información General\", href=\"/info\", active=\"exact\"),\n",
    "                dbc.NavLink(\"Explicativo\", href=\"/explic\", active=\"exact\"),\n",
    "                dbc.NavLink(\"Predictivo\", href=\"/predict\", active=\"exact\"),\n",
    "            ],\n",
    "            vertical=True,\n",
    "            pills=True,\n",
    "        ),\n",
    "    ],\n",
    "    style={\"width\": \"20%\", \"position\": \"fixed\", \"height\": \"100%\", \"background-color\": \"#f8f9fa\"}\n",
    ")\n",
    "\n",
    "content = html.Div(id=\"page-content\", style={\"margin-left\": \"20%\", \"width\": \"80%\"})\n",
    "\n",
    "app.layout = html.Div([\n",
    "    dcc.Location(id='url', refresh=False),\n",
    "    sidebar,\n",
    "    content,\n",
    "])\n",
    "\n",
    "@app.callback(\n",
    "    Output(\"page-content\", \"children\"),\n",
    "    [Input(\"url\", \"pathname\")]\n",
    ")\n",
    "def render_page_content(pathname):\n",
    "    if pathname == \"/info\":\n",
    "        return html.Div([\n",
    "            html.H1(\"Información General\"),\n",
    "            html.H2(\"Pregunta Descriptiva:\"),\n",
    "            html.P(\"¿Existe una importancia significativa entre la edad, nivel educativo de los clientes y su propensión al default en los últimos meses?\"),\n",
    "            html.H2(\"Pregunta Predictiva:\"),\n",
    "            html.P(\"¿Cuál es la probabilidad de default en clientes de tarjetas de crédito, considerando variables clave como el historial de pagos, el estado de la cuenta bancaria, la cantidad de pagos anteriores y el monto de crédito otorgado, mientras se considera la relación temporal de los pagos y la edad del cliente?\"),\n",
    "        ])\n",
    "    elif pathname == \"/explic\":\n",
    "        return html.Div([\n",
    "            \n",
    "            html.Br(),\n",
    "            html.Hr(),\n",
    "            html.H1(\"Análisis Explicativo\"),\n",
    "\n",
    "            html.Br(),\n",
    "            html.Hr(),\n",
    "            html.H4(\"Indice de Importancia por Categorias\"),\n",
    "            \n",
    "            # Insert the Plotly graph here\n",
    "            html.Div([\n",
    "                dcc.Graph(\n",
    "                    id='feature-importance-graph',\n",
    "                    figure=feature_importance_plot  # This assumes your Plotly figure is named 'feature_importance_plot'\n",
    "                )\n",
    "            ], id='feature_importance'),\n",
    "\n",
    "            html.Br(),\n",
    "            html.Hr(),\n",
    "            html.H4(\"Variables Edad y Nivel Educativo\"),\n",
    "            html.Table(id='importance-variables'),\n",
    "            \n",
    "            # Inserta la tabla de importance_details aquí\n",
    "            html.Div([\n",
    "                html.P(\"Valores Importancia\"),\n",
    "                variables\n",
    "            ])\n",
    "            \n",
    "        ])\n",
    "    elif pathname == \"/predict\":\n",
    "        return html.Div([\n",
    "\n",
    "            html.Br(),\n",
    "            html.Hr(),\n",
    "            html.H4(\"Probabilidad de Incumplimiento de Pago\"),\n",
    "            html.Label(\"Seleccionar ID del Cliente\"),\n",
    "            dcc.Input(id='customer-id', type='number', value=12),\n",
    "\n",
    "            html.Br(),\n",
    "            html.Hr(),\n",
    "            html.Div(id='default-probability'),\n",
    "            html.H4(\"Detalles del Cliente\"),\n",
    "            html.Table(id='customer-details'),\n",
    "            \n",
    "            html.Br(),\n",
    "            html.Hr(),\n",
    "            html.H4(\"Monto de Crédito Otorgado\"),\n",
    "            html.Table(id='credit-limit'),\n",
    "\n",
    "            html.Br(),\n",
    "            html.Hr(),\n",
    "            html.H4(\"Estado de Cuenta y Montos Pagados a lo largo del Tiempo\"),\n",
    "            dcc.Graph(id='line-chart')\n",
    "\n",
    "            \n",
    "        ])\n",
    "    else:\n",
    "        return \"404 Page Not Found\"\n"
   ]
  },
  {
   "cell_type": "markdown",
   "metadata": {},
   "source": [
    "### Definción de la función con sus callbacks que usara el área de predicción"
   ]
  },
  {
   "cell_type": "code",
   "execution_count": 443,
   "metadata": {},
   "outputs": [],
   "source": [
    "import plotly.graph_objects as go  # Ensure this import is at the beginning of your file\n",
    "\n",
    "# Callbacks para actualizar los componentes del dashboard\n",
    "@app.callback(\n",
    "    Output('default-probability', 'children'),\n",
    "    Output('customer-details', 'children'),\n",
    "    Output('line-chart', 'figure'),\n",
    "    Output('credit-limit', 'children'),\n",
    "    Input('customer-id', 'value')\n",
    ")\n",
    "def update_customer_info(customer_id):\n",
    "\n",
    "\n",
    "    # Consultar la base de datos para obtener los detalles del cliente\n",
    "    query = f\"SELECT sex, education, marriage, age, limit_bal FROM datos_limpios WHERE id = {customer_id}\"\n",
    "    customer_details = pd.read_sql_query(query, connection)\n",
    "    \n",
    "    # Mapear los valores numéricos a sus respectivas categorías\n",
    "    sex_mapping = {1: 'Masculino', 2: 'Femenino'}\n",
    "    education_mapping = {1: 'Escuela de Graduados', 2: 'Universidad', 3: 'Escuela Secundaria', 4: 'Otros'}\n",
    "    marriage_mapping = {1: 'Casado', 2: 'Soltero', 3: 'Otros'}\n",
    "\n",
    "    # Aplicar el mapeo a las columnas correspondientes\n",
    "    customer_details['sex'] = customer_details['sex'].map(sex_mapping)\n",
    "    customer_details['education'] = customer_details['education'].map(education_mapping)\n",
    "    customer_details['marriage'] = customer_details['marriage'].map(marriage_mapping)\n",
    "\n",
    "    # Modificar el nombre de las variables en el DataFrame\n",
    "    customer_details.rename(columns={'sex': 'Sexo', 'education': 'Nivel Educativo', 'marriage': 'Estado Civil','age': 'Edad', 'limit_bal': 'Monto Crédito'}, inplace=True)\n",
    "    \n",
    "    # Example database query and processing logic\n",
    "    # Assuming the function proba_dado_id() returns a probability as a float\n",
    "    default_probability = round(proba_dado_id(customer_id) * 100, 3)\n",
    "\n",
    "    # Create gauge plot for the default probability\n",
    "    gauge_figure = go.Figure(go.Indicator(\n",
    "        mode=\"gauge+number\",\n",
    "        value=default_probability,\n",
    "        domain={'x': [0, 1], 'y': [0, 1]},\n",
    "        title={'text': \"Default Probability\"},\n",
    "        gauge={'axis': {'range': [None, 100]},\n",
    "               'bar': {'color': \"darkblue\"},\n",
    "               'steps': [\n",
    "                   {'range': [0, 50], 'color': 'lightgreen'},\n",
    "                   {'range': [50, 75], 'color': 'yellow'},\n",
    "                   {'range': [75, 100], 'color': 'red'},\n",
    "               ],\n",
    "               'threshold': {\n",
    "                   'line': {'color': \"black\", 'width': 4},\n",
    "                   'thickness': 0.75,\n",
    "                   'value': default_probability}\n",
    "        }\n",
    "    ))\n",
    "\n",
    "    gauge_plot = dcc.Graph(figure=gauge_figure)\n",
    "\n",
    "    # Actualizar el número con la probabilidad de incumplimiento de pago\n",
    "    default_prob_component = [html.H2(f\"Probabilidad de Incumplimiento de Pago: {default_probability}%\"), gauge_plot ]\n",
    "\n",
    "    # Actualizar componente con detalles del cliente\n",
    "    customer_details_component = dbc.Table.from_dataframe(\n",
    "        customer_details[['Sexo', 'Nivel Educativo',  'Estado Civil', 'Edad']],\n",
    "        striped=True,\n",
    "        bordered=True,\n",
    "        hover=True,\n",
    "        responsive=True,\n",
    "        style={'width': '100%', 'margin': 'auto'}\n",
    "    )\n",
    "    \n",
    "    # Actualizar tabla con el monto de crédito otorgado\n",
    "    credit_limit_component = html.Div([\n",
    "        dbc.Table.from_dataframe(\n",
    "            pd.DataFrame({'Monto de Crédito Otorgado': [customer_details['Monto Crédito'][0]]}),\n",
    "            striped=True,\n",
    "            bordered=True,\n",
    "            hover=True,\n",
    "            responsive=True,\n",
    "            style={'width': '100%', 'margin': 'auto'}\n",
    "        )\n",
    "    ])\n",
    "\n",
    "    # Consultar la base de datos para obtener los datos de bill_amt y pay_amt\n",
    "    query_bill_amt = f\"SELECT bill_amt1, bill_amt2, bill_amt3, bill_amt4, bill_amt5, bill_amt6 FROM datos_limpios WHERE id = {customer_id}\"\n",
    "    query_pay_amt = f\"SELECT pay_amt1, pay_amt2, pay_amt3, pay_amt4, pay_amt5, pay_amt6 FROM datos_limpios WHERE id = {customer_id}\"\n",
    "    bill_amt_data = pd.read_sql_query(query_bill_amt, connection)\n",
    "    pay_amt_data = pd.read_sql_query(query_pay_amt, connection)\n",
    "\n",
    "    # Crear el DataFrame con las columnas solicitadas\n",
    "    df = {\n",
    "        'Meses': ['Abril', 'Mayo', 'Junio', 'Julio', 'Agosto', 'Septiembre'],\n",
    "        'Bill Amount': bill_amt_data.values.flatten(),\n",
    "        'Pay Amount': pay_amt_data.values.flatten()\n",
    "    }\n",
    "\n",
    "    # Crear el gráfico de línea para Bill_amt y Pay_amt\n",
    "    line_plot_figure = go.Figure()\n",
    "    line_plot_figure.add_trace(go.Scatter(x=df['Meses'], y=df['Bill Amount'], mode='lines', name='Bill Amount', line=dict(width=2)))\n",
    "    line_plot_figure.add_trace(go.Scatter(x=df['Meses'], y=df['Pay Amount'], mode='lines', name='Pay Amount', line=dict(width=2)))\n",
    "\n",
    "    # Actualizar el diseño del gráfico\n",
    "    line_plot_figure.update_layout(\n",
    "        margin=dict(t=30, l=30, r=30, b=30),  # Margins\n",
    "        legend=dict(x=0.75, y=1, bgcolor='rgba(255, 255, 255, 0.5)'),  # Legend\n",
    "        xaxis_title=\"Meses\",\n",
    "        yaxis_title=\"Valor\"\n",
    "    )\n",
    "\n",
    "    # Ajustar el tamaño de los puntos\n",
    "    line_plot_figure.update_traces(marker=dict(size=12, opacity=0.9))\n",
    "\n",
    "\n",
    "\n",
    "    return default_prob_component, customer_details_component,  line_plot_figure, credit_limit_component\n"
   ]
  },
  {
   "cell_type": "markdown",
   "metadata": {},
   "source": [
    "### Correr APP"
   ]
  },
  {
   "cell_type": "code",
   "execution_count": 444,
   "metadata": {},
   "outputs": [],
   "source": [
    "import socket\n",
    "import requests\n",
    "\n",
    "def get_local_ip():\n",
    "    try:\n",
    "        # Create a socket connection.\n",
    "        with socket.socket(socket.AF_INET, socket.SOCK_DGRAM) as s:\n",
    "            # Connect to a Google DNS server to determine the local IP.\n",
    "            s.connect((\"8.8.8.8\", 80))\n",
    "            return s.getsockname()[0]\n",
    "    except Exception as e:\n",
    "        return \"Unable to determine local IP\"\n",
    "\n",
    "local_ip = get_local_ip()"
   ]
  },
  {
   "cell_type": "code",
   "execution_count": 445,
   "metadata": {},
   "outputs": [
    {
     "name": "stdout",
     "output_type": "stream",
     "text": [
      "Local IP (for access within local network): http://192.168.1.48:8050\n"
     ]
    },
    {
     "data": {
      "text/html": [
       "\n",
       "        <iframe\n",
       "            width=\"100%\"\n",
       "            height=\"650\"\n",
       "            src=\"http://0.0.0.0:8050/\"\n",
       "            frameborder=\"0\"\n",
       "            allowfullscreen\n",
       "            \n",
       "        ></iframe>\n",
       "        "
      ],
      "text/plain": [
       "<IPython.lib.display.IFrame at 0x13ab71250>"
      ]
     },
     "metadata": {},
     "output_type": "display_data"
    },
    {
     "name": "stderr",
     "output_type": "stream",
     "text": [
      "/var/folders/rk/1txw87pj7sgdsrd0ny5897580000gn/T/ipykernel_8431/3849005669.py:16: UserWarning:\n",
      "\n",
      "pandas only supports SQLAlchemy connectable (engine/connection) or database string URI or sqlite3 DBAPI2 connection. Other DBAPI2 objects are not tested. Please consider using SQLAlchemy.\n",
      "\n"
     ]
    },
    {
     "name": "stdout",
     "output_type": "stream",
     "text": [
      "1/1 [==============================] - 0s 204ms/step\n",
      "Probabilidad de default para el cliente con ID 12: 16.65%\n"
     ]
    },
    {
     "name": "stderr",
     "output_type": "stream",
     "text": [
      "/var/folders/rk/1txw87pj7sgdsrd0ny5897580000gn/T/ipykernel_8431/3849005669.py:85: UserWarning:\n",
      "\n",
      "pandas only supports SQLAlchemy connectable (engine/connection) or database string URI or sqlite3 DBAPI2 connection. Other DBAPI2 objects are not tested. Please consider using SQLAlchemy.\n",
      "\n",
      "/var/folders/rk/1txw87pj7sgdsrd0ny5897580000gn/T/ipykernel_8431/3849005669.py:86: UserWarning:\n",
      "\n",
      "pandas only supports SQLAlchemy connectable (engine/connection) or database string URI or sqlite3 DBAPI2 connection. Other DBAPI2 objects are not tested. Please consider using SQLAlchemy.\n",
      "\n"
     ]
    }
   ],
   "source": [
    "\n",
    "print(f\"Local IP (for access within local network): http://{local_ip}:8050\")\n",
    "# Ejecutar la aplicación\n",
    "if __name__ == '__main__':\n",
    "    app.run_server(host='0.0.0.0', port=8050, debug=True)\n",
    "    "
   ]
  }
 ],
 "metadata": {
  "kernelspec": {
   "display_name": "Python 3",
   "language": "python",
   "name": "python3"
  },
  "language_info": {
   "codemirror_mode": {
    "name": "ipython",
    "version": 3
   },
   "file_extension": ".py",
   "mimetype": "text/x-python",
   "name": "python",
   "nbconvert_exporter": "python",
   "pygments_lexer": "ipython3",
   "version": "3.11.0"
  }
 },
 "nbformat": 4,
 "nbformat_minor": 2
}
